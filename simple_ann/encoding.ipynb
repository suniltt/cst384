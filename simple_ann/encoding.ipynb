{
 "cells": [
  {
   "cell_type": "markdown",
   "id": "76ad99af",
   "metadata": {},
   "source": [
    "#### Label encoding"
   ]
  },
  {
   "cell_type": "markdown",
   "id": "a25aac01",
   "metadata": {},
   "source": [
    "<img src=\"images/encoding1.jpg\" width=\"300\"/>"
   ]
  },
  {
   "cell_type": "markdown",
   "id": "894c40d5",
   "metadata": {},
   "source": [
    "#### Binary encoding"
   ]
  },
  {
   "cell_type": "markdown",
   "id": "8d8800c5",
   "metadata": {},
   "source": [
    "<img src=\"images/encoding2.jpg\" width=\"300\"/>"
   ]
  },
  {
   "cell_type": "markdown",
   "id": "dbe0f6be",
   "metadata": {},
   "source": [
    "#### One hot encoding "
   ]
  },
  {
   "cell_type": "markdown",
   "id": "d84bcee6",
   "metadata": {},
   "source": [
    "<img src=\"images/encoding3.jpg\" width=\"300\"/>"
   ]
  },
  {
   "cell_type": "markdown",
   "id": "7a0737c3",
   "metadata": {},
   "source": [
    "Excercise :\n",
    "  Assume that your data set is MNIST. The labels are encoded as digits from 0 to 9. \n",
    "  Write a function which accepts a lablel and returns its one  hot encoded version."
   ]
  },
  {
   "cell_type": "code",
   "execution_count": null,
   "id": "dbae1680",
   "metadata": {},
   "outputs": [],
   "source": []
  }
 ],
 "metadata": {
  "kernelspec": {
   "display_name": "Python 3",
   "language": "python",
   "name": "python3"
  },
  "language_info": {
   "codemirror_mode": {
    "name": "ipython",
    "version": 3
   },
   "file_extension": ".py",
   "mimetype": "text/x-python",
   "name": "python",
   "nbconvert_exporter": "python",
   "pygments_lexer": "ipython3",
   "version": "3.8.8"
  }
 },
 "nbformat": 4,
 "nbformat_minor": 5
}
