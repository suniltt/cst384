{
 "cells": [
  {
   "cell_type": "markdown",
   "metadata": {},
   "source": [
    "#  College of Engineering Attingal\n",
    "### Faculty Development Program\n",
    "\n",
    " \n",
    "# Build a simple  Neural Network in Keras"
   ]
  },
  {
   "cell_type": "markdown",
   "metadata": {},
   "source": [
    "It is assumed that the participants have some exposure to python and programming.  If you are skeptical,there are some  a pre fdp  python refresher notebooks which you can try out. "
   ]
  },
  {
   "cell_type": "code",
   "execution_count": 1,
   "metadata": {},
   "outputs": [],
   "source": [
    "# [![Open In Colab](https://colab.research.google.com/assets/colab-badge.svg)]( https://colab.research.google.com/github/suniltt/fdp2021/blob/main/simple_ann/simple_net_in_keras.ipynb)"
   ]
  },
  {
   "cell_type": "code",
   "execution_count": 2,
   "metadata": {},
   "outputs": [],
   "source": [
    "# you may install keras and tensor flow if they are missing "
   ]
  },
  {
   "cell_type": "code",
   "execution_count": 3,
   "metadata": {},
   "outputs": [],
   "source": [
    "#pip install keras "
   ]
  },
  {
   "cell_type": "code",
   "execution_count": 4,
   "metadata": {
    "scrolled": true
   },
   "outputs": [],
   "source": [
    "#pip install tensorflow"
   ]
  },
  {
   "cell_type": "code",
   "execution_count": 5,
   "metadata": {},
   "outputs": [],
   "source": [
    "#pip install matplotlib"
   ]
  },
  {
   "cell_type": "markdown",
   "metadata": {},
   "source": [
    "What is a tensor ?\n",
    "   \n",
    "Tensors are multi-dimensional arrays with a uniform type"
   ]
  },
  {
   "cell_type": "markdown",
   "metadata": {},
   "source": [
    "<img src=\"images/tf4.png\" width=\"500\"/>"
   ]
  },
  {
   "cell_type": "markdown",
   "metadata": {},
   "source": [
    "Graph computation \n",
    " \n",
    "\n",
    "  \n",
    "<img src=\"images/tf1.png\" width=\"500\"/>"
   ]
  },
  {
   "cell_type": "markdown",
   "metadata": {},
   "source": [
    "  \n",
    "<img src=\"images/tf2.png\" width=\"500\"/>\n",
    " "
   ]
  },
  {
   "cell_type": "markdown",
   "metadata": {},
   "source": [
    "Tensor flow is an open source library which  provides graph computation capabilities. \n",
    "\n",
    "\n",
    "Keras is a high level library that uses Tensor flow to build machine learning applicaiton. "
   ]
  },
  {
   "cell_type": "markdown",
   "metadata": {},
   "source": [
    "In this  lecture series we will use keras to explore machine learning algorithms from a pratcical point of view"
   ]
  },
  {
   "cell_type": "markdown",
   "metadata": {},
   "source": [
    "####  MNIST dataset\n",
    "The MNIST database (Modified National Institute of Standards and Technology database ) is a large database of handwritten digits that is commonly used for training image processing and machine learning algorithms.\n",
    "Ref:http://yann.lecun.com/exdb/mnist/"
   ]
  },
  {
   "cell_type": "markdown",
   "metadata": {},
   "source": [
    "There are 60000 triaing images and 10000 validation images. Training images were written by employees of american census dept. The validation images were written by high school students"
   ]
  },
  {
   "cell_type": "markdown",
   "metadata": {},
   "source": [
    "Some sample digits from MNIST\n",
    "  \n",
    "  <img src=\"images/mnist.png\" width=\"400\"/>\n",
    "\n"
   ]
  },
  {
   "cell_type": "markdown",
   "metadata": {},
   "source": [
    "We will try to build a simple ANN using keras to classify MNIST data set. The data set has 60000 training images and 10000 testing images. Each image is 28x28 gray scale images. Each pixel value can be between 0 and 255 ( 8bit)"
   ]
  },
  {
   "cell_type": "markdown",
   "metadata": {},
   "source": [
    "\n",
    "<img src=\"images/fig_3_mnist.png\" width=400/>"
   ]
  },
  {
   "cell_type": "markdown",
   "metadata": {},
   "source": [
    "We are going to build a simple NN  with one hidden layer using keras. The block diagram is shown below.\n",
    "A neural network takes a 1 dimensional vector as input. So we convert the 2d image to a 1 d array. \n",
    "\n",
    "There are 784 (= 28x28) inputs for each digit. The network should  find out which digit it is. There are 10 out puts ( 0 to 9 ). The out put layer is designed to out put  a boolean ( 0 or 1 )depending on the input degit.\n",
    "Eg For the  digit 7, 00000 00100 will be out put. ( This kind of encoding is called one hot encoding) "
   ]
  },
  {
   "cell_type": "markdown",
   "metadata": {},
   "source": [
    " \n",
    "<img src=\"images/ann.png\" width=400/>"
   ]
  },
  {
   "cell_type": "markdown",
   "metadata": {},
   "source": [
    "#### Load packages and modules"
   ]
  },
  {
   "cell_type": "code",
   "execution_count": 6,
   "metadata": {},
   "outputs": [],
   "source": [
    "import keras                                \n",
    "\n",
    "from keras.datasets import mnist    # Mnist data set from keras \n",
    "\n",
    "\n",
    "from keras.models import Sequential   #  Sequential model\n",
    "\n",
    "\n",
    "from keras.layers import Dense        # Dense network\n",
    "\n",
    "from tensorflow.keras.optimizers import SGD    #optimizer\n",
    "\n",
    "\n",
    "from matplotlib import pyplot as plt    # This is for plotting  "
   ]
  },
  {
   "cell_type": "markdown",
   "metadata": {},
   "source": [
    "#### Load data"
   ]
  },
  {
   "cell_type": "code",
   "execution_count": 7,
   "metadata": {},
   "outputs": [],
   "source": [
    "(X_train, y_train), (X_valid, y_valid) = mnist.load_data()\n",
    "\n",
    "# Keras has a lot of standard datasets available, \n",
    "#That is why we imported from keras.datasets import mnist \n",
    "\n",
    "# data will be downloaded from internet. it may take some time\n",
    "\n",
    "# X_train contains training data,y_train lablels\n",
    "# X_valid  contains test data "
   ]
  },
  {
   "cell_type": "code",
   "execution_count": 8,
   "metadata": {},
   "outputs": [
    {
     "data": {
      "text/plain": [
       "numpy.ndarray"
      ]
     },
     "execution_count": 8,
     "metadata": {},
     "output_type": "execute_result"
    }
   ],
   "source": [
    "type(X_train)"
   ]
  },
  {
   "cell_type": "code",
   "execution_count": 9,
   "metadata": {},
   "outputs": [
    {
     "data": {
      "text/plain": [
       "(60000, 28, 28)"
      ]
     },
     "execution_count": 9,
     "metadata": {},
     "output_type": "execute_result"
    }
   ],
   "source": [
    "X_train.shape"
   ]
  },
  {
   "cell_type": "code",
   "execution_count": 10,
   "metadata": {},
   "outputs": [
    {
     "data": {
      "text/plain": [
       "(60000,)"
      ]
     },
     "execution_count": 10,
     "metadata": {},
     "output_type": "execute_result"
    }
   ],
   "source": [
    "y_train.shape"
   ]
  },
  {
   "cell_type": "code",
   "execution_count": 11,
   "metadata": {},
   "outputs": [
    {
     "data": {
      "text/plain": [
       "array([5, 0, 4, 1, 9, 2, 1, 3, 1, 4, 3, 5], dtype=uint8)"
      ]
     },
     "execution_count": 11,
     "metadata": {},
     "output_type": "execute_result"
    }
   ],
   "source": [
    "y_train[0:12]"
   ]
  },
  {
   "cell_type": "code",
   "execution_count": 12,
   "metadata": {},
   "outputs": [
    {
     "data": {
      "image/png": "[encoded data removed]",
      "text/plain": [
       "<Figure size 360x360 with 20 Axes>"
      ]
     },
     "metadata": {
      "needs_background": "light"
     },
     "output_type": "display_data"
    }
   ],
   "source": [
    "plt.figure(figsize=(5,5))\n",
    "for k in range(20):      # chose a range of training values \n",
    "    plt.subplot(10, 2, k+1)   # This should match with value above ( 10X2 =20)\n",
    "    plt.imshow(X_train[k], cmap='Greys')\n",
    "    plt.axis('off')\n",
    "plt.tight_layout()  # try commenting this\n",
    "plt.show()"
   ]
  },
  {
   "cell_type": "code",
   "execution_count": 13,
   "metadata": {},
   "outputs": [
    {
     "data": {
      "text/plain": [
       "(10000, 28, 28)"
      ]
     },
     "execution_count": 13,
     "metadata": {},
     "output_type": "execute_result"
    }
   ],
   "source": [
    "X_valid.shape"
   ]
  },
  {
   "cell_type": "code",
   "execution_count": 14,
   "metadata": {},
   "outputs": [
    {
     "data": {
      "text/plain": [
       "(10000,)"
      ]
     },
     "execution_count": 14,
     "metadata": {},
     "output_type": "execute_result"
    }
   ],
   "source": [
    "y_valid.shape"
   ]
  },
  {
   "cell_type": "code",
   "execution_count": 15,
   "metadata": {},
   "outputs": [
    {
     "data": {
      "text/plain": [
       "<matplotlib.image.AxesImage at 0x7f10b7aa1ad0>"
      ]
     },
     "execution_count": 15,
     "metadata": {},
     "output_type": "execute_result"
    },
    {
     "data": {
      "image/png": "[encoded data removed]",
      "text/plain": [
       "<Figure size 432x288 with 1 Axes>"
      ]
     },
     "metadata": {
      "needs_background": "light"
     },
     "output_type": "display_data"
    }
   ],
   "source": [
    "plt.imshow(X_valid[0], cmap='Greys')"
   ]
  },
  {
   "cell_type": "code",
   "execution_count": 16,
   "metadata": {},
   "outputs": [
    {
     "data": {
      "text/plain": [
       "array([[  0,   0,   0,   0,   0,   0,   0,   0,   0,   0,   0,   0,   0,\n",
       "          0,   0,   0,   0,   0,   0,   0,   0,   0,   0,   0,   0,   0,\n",
       "          0,   0],\n",
       "       [  0,   0,   0,   0,   0,   0,   0,   0,   0,   0,   0,   0,   0,\n",
       "          0,   0,   0,   0,   0,   0,   0,   0,   0,   0,   0,   0,   0,\n",
       "          0,   0],\n",
       "       [  0,   0,   0,   0,   0,   0,   0,   0,   0,   0,   0,   0,   0,\n",
       "          0,   0,   0,   0,   0,   0,   0,   0,   0,   0,   0,   0,   0,\n",
       "          0,   0],\n",
       "       [  0,   0,   0,   0,   0,   0,   0,   0,   0,   0,   0,   0,   0,\n",
       "          0,   0,   0,   0,   0,   0,   0,   0,   0,   0,   0,   0,   0,\n",
       "          0,   0],\n",
       "       [  0,   0,   0,   0,   0,   0,   0,   0,   0,   0,   0,   0,   0,\n",
       "          0,   0,   0,   0,   0,   0,   0,   0,   0,   0,   0,   0,   0,\n",
       "          0,   0],\n",
       "       [  0,   0,   0,   0,   0,   0,   0,   0,   0,   0,   0,   0,   0,\n",
       "          0,   0,   0,   0,   0,   0,   0,   0,   0,   0,   0,   0,   0,\n",
       "          0,   0],\n",
       "       [  0,   0,   0,   0,   0,   0,   0,   0,   0,   0,   0,   0,   0,\n",
       "          0,   0,   0,   0,   0,   0,   0,   0,   0,   0,   0,   0,   0,\n",
       "          0,   0],\n",
       "       [  0,   0,   0,   0,   0,   0,  84, 185, 159, 151,  60,  36,   0,\n",
       "          0,   0,   0,   0,   0,   0,   0,   0,   0,   0,   0,   0,   0,\n",
       "          0,   0],\n",
       "       [  0,   0,   0,   0,   0,   0, 222, 254, 254, 254, 254, 241, 198,\n",
       "        198, 198, 198, 198, 198, 198, 198, 170,  52,   0,   0,   0,   0,\n",
       "          0,   0],\n",
       "       [  0,   0,   0,   0,   0,   0,  67, 114,  72, 114, 163, 227, 254,\n",
       "        225, 254, 254, 254, 250, 229, 254, 254, 140,   0,   0,   0,   0,\n",
       "          0,   0],\n",
       "       [  0,   0,   0,   0,   0,   0,   0,   0,   0,   0,   0,  17,  66,\n",
       "         14,  67,  67,  67,  59,  21, 236, 254, 106,   0,   0,   0,   0,\n",
       "          0,   0],\n",
       "       [  0,   0,   0,   0,   0,   0,   0,   0,   0,   0,   0,   0,   0,\n",
       "          0,   0,   0,   0,   0,  83, 253, 209,  18,   0,   0,   0,   0,\n",
       "          0,   0],\n",
       "       [  0,   0,   0,   0,   0,   0,   0,   0,   0,   0,   0,   0,   0,\n",
       "          0,   0,   0,   0,  22, 233, 255,  83,   0,   0,   0,   0,   0,\n",
       "          0,   0],\n",
       "       [  0,   0,   0,   0,   0,   0,   0,   0,   0,   0,   0,   0,   0,\n",
       "          0,   0,   0,   0, 129, 254, 238,  44,   0,   0,   0,   0,   0,\n",
       "          0,   0],\n",
       "       [  0,   0,   0,   0,   0,   0,   0,   0,   0,   0,   0,   0,   0,\n",
       "          0,   0,   0,  59, 249, 254,  62,   0,   0,   0,   0,   0,   0,\n",
       "          0,   0],\n",
       "       [  0,   0,   0,   0,   0,   0,   0,   0,   0,   0,   0,   0,   0,\n",
       "          0,   0,   0, 133, 254, 187,   5,   0,   0,   0,   0,   0,   0,\n",
       "          0,   0],\n",
       "       [  0,   0,   0,   0,   0,   0,   0,   0,   0,   0,   0,   0,   0,\n",
       "          0,   0,   9, 205, 248,  58,   0,   0,   0,   0,   0,   0,   0,\n",
       "          0,   0],\n",
       "       [  0,   0,   0,   0,   0,   0,   0,   0,   0,   0,   0,   0,   0,\n",
       "          0,   0, 126, 254, 182,   0,   0,   0,   0,   0,   0,   0,   0,\n",
       "          0,   0],\n",
       "       [  0,   0,   0,   0,   0,   0,   0,   0,   0,   0,   0,   0,   0,\n",
       "          0,  75, 251, 240,  57,   0,   0,   0,   0,   0,   0,   0,   0,\n",
       "          0,   0],\n",
       "       [  0,   0,   0,   0,   0,   0,   0,   0,   0,   0,   0,   0,   0,\n",
       "         19, 221, 254, 166,   0,   0,   0,   0,   0,   0,   0,   0,   0,\n",
       "          0,   0],\n",
       "       [  0,   0,   0,   0,   0,   0,   0,   0,   0,   0,   0,   0,   3,\n",
       "        203, 254, 219,  35,   0,   0,   0,   0,   0,   0,   0,   0,   0,\n",
       "          0,   0],\n",
       "       [  0,   0,   0,   0,   0,   0,   0,   0,   0,   0,   0,   0,  38,\n",
       "        254, 254,  77,   0,   0,   0,   0,   0,   0,   0,   0,   0,   0,\n",
       "          0,   0],\n",
       "       [  0,   0,   0,   0,   0,   0,   0,   0,   0,   0,   0,  31, 224,\n",
       "        254, 115,   1,   0,   0,   0,   0,   0,   0,   0,   0,   0,   0,\n",
       "          0,   0],\n",
       "       [  0,   0,   0,   0,   0,   0,   0,   0,   0,   0,   0, 133, 254,\n",
       "        254,  52,   0,   0,   0,   0,   0,   0,   0,   0,   0,   0,   0,\n",
       "          0,   0],\n",
       "       [  0,   0,   0,   0,   0,   0,   0,   0,   0,   0,  61, 242, 254,\n",
       "        254,  52,   0,   0,   0,   0,   0,   0,   0,   0,   0,   0,   0,\n",
       "          0,   0],\n",
       "       [  0,   0,   0,   0,   0,   0,   0,   0,   0,   0, 121, 254, 254,\n",
       "        219,  40,   0,   0,   0,   0,   0,   0,   0,   0,   0,   0,   0,\n",
       "          0,   0],\n",
       "       [  0,   0,   0,   0,   0,   0,   0,   0,   0,   0, 121, 254, 207,\n",
       "         18,   0,   0,   0,   0,   0,   0,   0,   0,   0,   0,   0,   0,\n",
       "          0,   0],\n",
       "       [  0,   0,   0,   0,   0,   0,   0,   0,   0,   0,   0,   0,   0,\n",
       "          0,   0,   0,   0,   0,   0,   0,   0,   0,   0,   0,   0,   0,\n",
       "          0,   0]], dtype=uint8)"
      ]
     },
     "execution_count": 16,
     "metadata": {},
     "output_type": "execute_result"
    }
   ],
   "source": [
    "X_valid[0]"
   ]
  },
  {
   "cell_type": "code",
   "execution_count": 17,
   "metadata": {},
   "outputs": [
    {
     "data": {
      "text/plain": [
       "7"
      ]
     },
     "execution_count": 17,
     "metadata": {},
     "output_type": "execute_result"
    }
   ],
   "source": [
    "y_valid[0]"
   ]
  },
  {
   "cell_type": "markdown",
   "metadata": {},
   "source": [
    "#### Preprocess data"
   ]
  },
  {
   "cell_type": "code",
   "execution_count": 18,
   "metadata": {},
   "outputs": [],
   "source": [
    "# We do two things here. Reshape the 28x28  digit to a single vector of 784 number.\n",
    "# The array elements are  between 0 and 255 . We need to normalize this to a value between 0 and 1 for that we \n",
    "# convert each number to float and then divide by 255.\n",
    "\n",
    "X_train = X_train.reshape(60000, 784).astype('float32')   \n",
    "X_valid = X_valid.reshape(10000, 784).astype('float32')"
   ]
  },
  {
   "cell_type": "code",
   "execution_count": 19,
   "metadata": {},
   "outputs": [],
   "source": [
    "X_train /= 255\n",
    "X_valid /= 255"
   ]
  },
  {
   "cell_type": "code",
   "execution_count": 20,
   "metadata": {},
   "outputs": [
    {
     "data": {
      "text/plain": [
       "array([0.        , 0.        , 0.        , 0.        , 0.        ,\n",
       "       0.        , 0.        , 0.        , 0.        , 0.        ,\n",
       "       0.        , 0.        , 0.        , 0.        , 0.        ,\n",
       "       0.        , 0.        , 0.        , 0.        , 0.        ,\n",
       "       0.        , 0.        , 0.        , 0.        , 0.        ,\n",
       "       0.        , 0.        , 0.        , 0.        , 0.        ,\n",
       "       0.        , 0.        , 0.        , 0.        , 0.        ,\n",
       "       0.        , 0.        , 0.        , 0.        , 0.        ,\n",
       "       0.        , 0.        , 0.        , 0.        , 0.        ,\n",
       "       0.        , 0.        , 0.        , 0.        , 0.        ,\n",
       "       0.        , 0.        , 0.        , 0.        , 0.        ,\n",
       "       0.        , 0.        , 0.        , 0.        , 0.        ,\n",
       "       0.        , 0.        , 0.        , 0.        , 0.        ,\n",
       "       0.        , 0.        , 0.        , 0.        , 0.        ,\n",
       "       0.        , 0.        , 0.        , 0.        , 0.        ,\n",
       "       0.        , 0.        , 0.        , 0.        , 0.        ,\n",
       "       0.        , 0.        , 0.        , 0.        , 0.        ,\n",
       "       0.        , 0.        , 0.        , 0.        , 0.        ,\n",
       "       0.        , 0.        , 0.        , 0.        , 0.        ,\n",
       "       0.        , 0.        , 0.        , 0.        , 0.        ,\n",
       "       0.        , 0.        , 0.        , 0.        , 0.        ,\n",
       "       0.        , 0.        , 0.        , 0.        , 0.        ,\n",
       "       0.        , 0.        , 0.        , 0.        , 0.        ,\n",
       "       0.        , 0.        , 0.        , 0.        , 0.        ,\n",
       "       0.        , 0.        , 0.        , 0.        , 0.        ,\n",
       "       0.        , 0.        , 0.        , 0.        , 0.        ,\n",
       "       0.        , 0.        , 0.        , 0.        , 0.        ,\n",
       "       0.        , 0.        , 0.        , 0.        , 0.        ,\n",
       "       0.        , 0.        , 0.        , 0.        , 0.        ,\n",
       "       0.        , 0.        , 0.        , 0.        , 0.        ,\n",
       "       0.        , 0.        , 0.        , 0.        , 0.        ,\n",
       "       0.        , 0.        , 0.        , 0.        , 0.        ,\n",
       "       0.        , 0.        , 0.        , 0.        , 0.        ,\n",
       "       0.        , 0.        , 0.        , 0.        , 0.        ,\n",
       "       0.        , 0.        , 0.        , 0.        , 0.        ,\n",
       "       0.        , 0.        , 0.        , 0.        , 0.        ,\n",
       "       0.        , 0.        , 0.        , 0.        , 0.        ,\n",
       "       0.        , 0.        , 0.        , 0.        , 0.        ,\n",
       "       0.        , 0.        , 0.        , 0.        , 0.        ,\n",
       "       0.        , 0.        , 0.        , 0.        , 0.        ,\n",
       "       0.        , 0.        , 0.32941177, 0.7254902 , 0.62352943,\n",
       "       0.5921569 , 0.23529412, 0.14117648, 0.        , 0.        ,\n",
       "       0.        , 0.        , 0.        , 0.        , 0.        ,\n",
       "       0.        , 0.        , 0.        , 0.        , 0.        ,\n",
       "       0.        , 0.        , 0.        , 0.        , 0.        ,\n",
       "       0.        , 0.        , 0.        , 0.        , 0.        ,\n",
       "       0.87058824, 0.99607843, 0.99607843, 0.99607843, 0.99607843,\n",
       "       0.94509804, 0.7764706 , 0.7764706 , 0.7764706 , 0.7764706 ,\n",
       "       0.7764706 , 0.7764706 , 0.7764706 , 0.7764706 , 0.6666667 ,\n",
       "       0.20392157, 0.        , 0.        , 0.        , 0.        ,\n",
       "       0.        , 0.        , 0.        , 0.        , 0.        ,\n",
       "       0.        , 0.        , 0.        , 0.2627451 , 0.44705883,\n",
       "       0.28235295, 0.44705883, 0.6392157 , 0.8901961 , 0.99607843,\n",
       "       0.88235295, 0.99607843, 0.99607843, 0.99607843, 0.98039216,\n",
       "       0.8980392 , 0.99607843, 0.99607843, 0.54901963, 0.        ,\n",
       "       0.        , 0.        , 0.        , 0.        , 0.        ,\n",
       "       0.        , 0.        , 0.        , 0.        , 0.        ,\n",
       "       0.        , 0.        , 0.        , 0.        , 0.        ,\n",
       "       0.        , 0.06666667, 0.25882354, 0.05490196, 0.2627451 ,\n",
       "       0.2627451 , 0.2627451 , 0.23137255, 0.08235294, 0.9254902 ,\n",
       "       0.99607843, 0.41568628, 0.        , 0.        , 0.        ,\n",
       "       0.        , 0.        , 0.        , 0.        , 0.        ,\n",
       "       0.        , 0.        , 0.        , 0.        , 0.        ,\n",
       "       0.        , 0.        , 0.        , 0.        , 0.        ,\n",
       "       0.        , 0.        , 0.        , 0.        , 0.        ,\n",
       "       0.        , 0.3254902 , 0.99215686, 0.81960785, 0.07058824,\n",
       "       0.        , 0.        , 0.        , 0.        , 0.        ,\n",
       "       0.        , 0.        , 0.        , 0.        , 0.        ,\n",
       "       0.        , 0.        , 0.        , 0.        , 0.        ,\n",
       "       0.        , 0.        , 0.        , 0.        , 0.        ,\n",
       "       0.        , 0.        , 0.        , 0.08627451, 0.9137255 ,\n",
       "       1.        , 0.3254902 , 0.        , 0.        , 0.        ,\n",
       "       0.        , 0.        , 0.        , 0.        , 0.        ,\n",
       "       0.        , 0.        , 0.        , 0.        , 0.        ,\n",
       "       0.        , 0.        , 0.        , 0.        , 0.        ,\n",
       "       0.        , 0.        , 0.        , 0.        , 0.        ,\n",
       "       0.        , 0.5058824 , 0.99607843, 0.93333334, 0.17254902,\n",
       "       0.        , 0.        , 0.        , 0.        , 0.        ,\n",
       "       0.        , 0.        , 0.        , 0.        , 0.        ,\n",
       "       0.        , 0.        , 0.        , 0.        , 0.        ,\n",
       "       0.        , 0.        , 0.        , 0.        , 0.        ,\n",
       "       0.        , 0.        , 0.        , 0.23137255, 0.9764706 ,\n",
       "       0.99607843, 0.24313726, 0.        , 0.        , 0.        ,\n",
       "       0.        , 0.        , 0.        , 0.        , 0.        ,\n",
       "       0.        , 0.        , 0.        , 0.        , 0.        ,\n",
       "       0.        , 0.        , 0.        , 0.        , 0.        ,\n",
       "       0.        , 0.        , 0.        , 0.        , 0.        ,\n",
       "       0.        , 0.52156866, 0.99607843, 0.73333335, 0.01960784,\n",
       "       0.        , 0.        , 0.        , 0.        , 0.        ,\n",
       "       0.        , 0.        , 0.        , 0.        , 0.        ,\n",
       "       0.        , 0.        , 0.        , 0.        , 0.        ,\n",
       "       0.        , 0.        , 0.        , 0.        , 0.        ,\n",
       "       0.        , 0.        , 0.        , 0.03529412, 0.8039216 ,\n",
       "       0.972549  , 0.22745098, 0.        , 0.        , 0.        ,\n",
       "       0.        , 0.        , 0.        , 0.        , 0.        ,\n",
       "       0.        , 0.        , 0.        , 0.        , 0.        ,\n",
       "       0.        , 0.        , 0.        , 0.        , 0.        ,\n",
       "       0.        , 0.        , 0.        , 0.        , 0.        ,\n",
       "       0.        , 0.49411765, 0.99607843, 0.7137255 , 0.        ,\n",
       "       0.        , 0.        , 0.        , 0.        , 0.        ,\n",
       "       0.        , 0.        , 0.        , 0.        , 0.        ,\n",
       "       0.        , 0.        , 0.        , 0.        , 0.        ,\n",
       "       0.        , 0.        , 0.        , 0.        , 0.        ,\n",
       "       0.        , 0.        , 0.        , 0.29411766, 0.9843137 ,\n",
       "       0.9411765 , 0.22352941, 0.        , 0.        , 0.        ,\n",
       "       0.        , 0.        , 0.        , 0.        , 0.        ,\n",
       "       0.        , 0.        , 0.        , 0.        , 0.        ,\n",
       "       0.        , 0.        , 0.        , 0.        , 0.        ,\n",
       "       0.        , 0.        , 0.        , 0.        , 0.        ,\n",
       "       0.07450981, 0.8666667 , 0.99607843, 0.6509804 , 0.        ,\n",
       "       0.        , 0.        , 0.        , 0.        , 0.        ,\n",
       "       0.        , 0.        , 0.        , 0.        , 0.        ,\n",
       "       0.        , 0.        , 0.        , 0.        , 0.        ,\n",
       "       0.        , 0.        , 0.        , 0.        , 0.        ,\n",
       "       0.        , 0.        , 0.01176471, 0.79607844, 0.99607843,\n",
       "       0.85882354, 0.13725491, 0.        , 0.        , 0.        ,\n",
       "       0.        , 0.        , 0.        , 0.        , 0.        ,\n",
       "       0.        , 0.        , 0.        , 0.        , 0.        ,\n",
       "       0.        , 0.        , 0.        , 0.        , 0.        ,\n",
       "       0.        , 0.        , 0.        , 0.        , 0.        ,\n",
       "       0.14901961, 0.99607843, 0.99607843, 0.3019608 , 0.        ,\n",
       "       0.        , 0.        , 0.        , 0.        , 0.        ,\n",
       "       0.        , 0.        , 0.        , 0.        , 0.        ,\n",
       "       0.        , 0.        , 0.        , 0.        , 0.        ,\n",
       "       0.        , 0.        , 0.        , 0.        , 0.        ,\n",
       "       0.        , 0.        , 0.12156863, 0.8784314 , 0.99607843,\n",
       "       0.4509804 , 0.00392157, 0.        , 0.        , 0.        ,\n",
       "       0.        , 0.        , 0.        , 0.        , 0.        ,\n",
       "       0.        , 0.        , 0.        , 0.        , 0.        ,\n",
       "       0.        , 0.        , 0.        , 0.        , 0.        ,\n",
       "       0.        , 0.        , 0.        , 0.        , 0.        ,\n",
       "       0.52156866, 0.99607843, 0.99607843, 0.20392157, 0.        ,\n",
       "       0.        , 0.        , 0.        , 0.        , 0.        ,\n",
       "       0.        , 0.        , 0.        , 0.        , 0.        ,\n",
       "       0.        , 0.        , 0.        , 0.        , 0.        ,\n",
       "       0.        , 0.        , 0.        , 0.        , 0.        ,\n",
       "       0.        , 0.        , 0.23921569, 0.9490196 , 0.99607843,\n",
       "       0.99607843, 0.20392157, 0.        , 0.        , 0.        ,\n",
       "       0.        , 0.        , 0.        , 0.        , 0.        ,\n",
       "       0.        , 0.        , 0.        , 0.        , 0.        ,\n",
       "       0.        , 0.        , 0.        , 0.        , 0.        ,\n",
       "       0.        , 0.        , 0.        , 0.        , 0.        ,\n",
       "       0.4745098 , 0.99607843, 0.99607843, 0.85882354, 0.15686275,\n",
       "       0.        , 0.        , 0.        , 0.        , 0.        ,\n",
       "       0.        , 0.        , 0.        , 0.        , 0.        ,\n",
       "       0.        , 0.        , 0.        , 0.        , 0.        ,\n",
       "       0.        , 0.        , 0.        , 0.        , 0.        ,\n",
       "       0.        , 0.        , 0.        , 0.4745098 , 0.99607843,\n",
       "       0.8117647 , 0.07058824, 0.        , 0.        , 0.        ,\n",
       "       0.        , 0.        , 0.        , 0.        , 0.        ,\n",
       "       0.        , 0.        , 0.        , 0.        , 0.        ,\n",
       "       0.        , 0.        , 0.        , 0.        , 0.        ,\n",
       "       0.        , 0.        , 0.        , 0.        , 0.        ,\n",
       "       0.        , 0.        , 0.        , 0.        , 0.        ,\n",
       "       0.        , 0.        , 0.        , 0.        , 0.        ,\n",
       "       0.        , 0.        , 0.        , 0.        , 0.        ,\n",
       "       0.        , 0.        , 0.        , 0.        ], dtype=float32)"
      ]
     },
     "execution_count": 20,
     "metadata": {},
     "output_type": "execute_result"
    }
   ],
   "source": [
    "X_valid[0]  # This is  7 the first element in X_valid represented as a single dim array"
   ]
  },
  {
   "cell_type": "code",
   "execution_count": 21,
   "metadata": {},
   "outputs": [],
   "source": [
    "# We convert the lables to one hot representation. \n",
    "\n",
    "from keras import utils as np_utils\n",
    "\n",
    "n_classes = 10\n",
    "\n",
    "y_train =keras.utils.np_utils.to_categorical (y_train, n_classes)\n",
    "y_valid= keras.utils.np_utils.to_categorical(y_valid, n_classes)\n",
    " "
   ]
  },
  {
   "cell_type": "code",
   "execution_count": 22,
   "metadata": {},
   "outputs": [
    {
     "data": {
      "text/plain": [
       "array([0., 0., 0., 0., 0., 0., 0., 1., 0., 0.], dtype=float32)"
      ]
     },
     "execution_count": 22,
     "metadata": {},
     "output_type": "execute_result"
    }
   ],
   "source": [
    "y_valid[0]"
   ]
  },
  {
   "cell_type": "code",
   "execution_count": null,
   "metadata": {},
   "outputs": [],
   "source": []
  },
  {
   "cell_type": "markdown",
   "metadata": {},
   "source": [
    " \n",
    " <img src=\"images/keras_model.png\" width=400/>"
   ]
  },
  {
   "cell_type": "markdown",
   "metadata": {},
   "source": [
    "#### Define neural network architecture"
   ]
  },
  {
   "cell_type": "markdown",
   "metadata": {},
   "source": [
    "There are two ways to build Keras models: sequential and functional.\n",
    "\n",
    "The sequential API allows you to create models layer-by-layer for most problems. It is limited in that it does not allow you to create models that share layers or have multiple inputs or outputs.\n",
    "\n",
    "Alternatively, the functional API allows you to create models that have a lot more flexibility as you can easily define models where layers connect to more than just the previous and next layers. In fact, you can connect layers to (literally) any other layer. As a result, creating complex networks such as siamese networks and residual networks become possible. Look at the following link for more information. \n",
    "\n",
    "https://machinelearningmastery.com/keras-functional-api-deep-learning/"
   ]
  },
  {
   "cell_type": "code",
   "execution_count": 23,
   "metadata": {},
   "outputs": [],
   "source": [
    "model = Sequential() \n"
   ]
  },
  {
   "cell_type": "markdown",
   "metadata": {},
   "source": [
    "The dense layer is a neural network layer that is connected deeply, which means each neuron in the dense layer receives input from all neurons of its previous layer. The dense layer is found to be the most commonly used layer in the models.\n",
    " \n",
    " <img src=\"images/dense_layer.png\" width=400/>\n"
   ]
  },
  {
   "cell_type": "code",
   "execution_count": 24,
   "metadata": {},
   "outputs": [],
   "source": [
    "model.add(Dense(64, activation='sigmoid', input_shape=(784,)))"
   ]
  },
  {
   "cell_type": "markdown",
   "metadata": {},
   "source": [
    "Let us examine above line \n",
    "\n",
    "There are  64 neurons in the hidden layer\n",
    "\n",
    "Each neuron has sigmoid activation funtion \n",
    "There are 784 inputs."
   ]
  },
  {
   "cell_type": "markdown",
   "metadata": {},
   "source": [
    " One neuron\n",
    " \n",
    " <img src=\"images/n1.png\" width=400/>\n"
   ]
  },
  {
   "cell_type": "markdown",
   "metadata": {},
   "source": [
    "Sigmoid activation function\n",
    "\n",
    " \n",
    "\n",
    " <img src=\"images/sigmoid.png\" width=400/>"
   ]
  },
  {
   "cell_type": "code",
   "execution_count": 25,
   "metadata": {},
   "outputs": [],
   "source": [
    "# final layer \n",
    "\n",
    "model.add(Dense(10, activation='softmax'))\n",
    "\n",
    "\n",
    "#Softmax layer converst outputs to probablites "
   ]
  },
  {
   "cell_type": "markdown",
   "metadata": {},
   "source": [
    "\n",
    " <img src=\"images/softmax.jpg\" width=400/>"
   ]
  },
  {
   "cell_type": "code",
   "execution_count": 26,
   "metadata": {},
   "outputs": [
    {
     "name": "stdout",
     "output_type": "stream",
     "text": [
      "Model: \"sequential\"\n",
      "_________________________________________________________________\n",
      "Layer (type)                 Output Shape              Param #   \n",
      "=================================================================\n",
      "dense (Dense)                (None, 64)                50240     \n",
      "_________________________________________________________________\n",
      "dense_1 (Dense)              (None, 10)                650       \n",
      "=================================================================\n",
      "Total params: 50,890\n",
      "Trainable params: 50,890\n",
      "Non-trainable params: 0\n",
      "_________________________________________________________________\n"
     ]
    }
   ],
   "source": [
    "model.summary()"
   ]
  },
  {
   "cell_type": "code",
   "execution_count": 27,
   "metadata": {},
   "outputs": [
    {
     "data": {
      "text/plain": [
       "50176"
      ]
     },
     "execution_count": 27,
     "metadata": {},
     "output_type": "execute_result"
    }
   ],
   "source": [
    "(64*784) # Wi Xi  Total weights at input layer "
   ]
  },
  {
   "cell_type": "code",
   "execution_count": 28,
   "metadata": {},
   "outputs": [
    {
     "data": {
      "text/plain": [
       "50240"
      ]
     },
     "execution_count": 28,
     "metadata": {},
     "output_type": "execute_result"
    }
   ],
   "source": [
    "(64*784)+64   # 64 biases "
   ]
  },
  {
   "cell_type": "code",
   "execution_count": 29,
   "metadata": {},
   "outputs": [
    {
     "data": {
      "text/plain": [
       "650"
      ]
     },
     "execution_count": 29,
     "metadata": {},
     "output_type": "execute_result"
    }
   ],
   "source": [
    "(10*64)+10  # final layer  Wights + bias"
   ]
  },
  {
   "cell_type": "code",
   "execution_count": 30,
   "metadata": {},
   "outputs": [
    {
     "data": {
      "text/plain": [
       "50890"
      ]
     },
     "execution_count": 30,
     "metadata": {},
     "output_type": "execute_result"
    }
   ],
   "source": [
    "(10*64)+10  +  (64*784)+64    "
   ]
  },
  {
   "cell_type": "markdown",
   "metadata": {},
   "source": [
    "#### Compile  the network"
   ]
  },
  {
   "cell_type": "code",
   "execution_count": 31,
   "metadata": {},
   "outputs": [],
   "source": [
    "model.compile(loss='mean_squared_error', optimizer=SGD(learning_rate=0.01), metrics=['accuracy'])"
   ]
  },
  {
   "cell_type": "markdown",
   "metadata": {},
   "source": [
    "#### Loss function  "
   ]
  },
  {
   "cell_type": "markdown",
   "metadata": {},
   "source": [
    "Loss funtion is a method of evaluating how well your algorithm models your dataset. If your predictions are totally off, your loss function will output a higher number. If they’re pretty good, it’ll output a lower number. As you change pieces of your algorithm to try and improve your model, your loss function will tell you if you’re getting anywhere."
   ]
  },
  {
   "cell_type": "markdown",
   "metadata": {},
   "source": [
    "\n",
    "\n",
    " <img src=\"images/loss_function.png\" width=500/>"
   ]
  },
  {
   "cell_type": "markdown",
   "metadata": {},
   "source": [
    "Mean Square Error/Quadratic Loss/L2 Loss\n",
    " \n",
    " <img src=\"images/mse.png\" width=400/>"
   ]
  },
  {
   "cell_type": "markdown",
   "metadata": {},
   "source": [
    "Please read about other loss functions   https://towardsdatascience.com/what-is-loss-function-1e2605aeb904"
   ]
  },
  {
   "cell_type": "markdown",
   "metadata": {},
   "source": [
    "#### Optimizer and   learning rate  "
   ]
  },
  {
   "cell_type": "markdown",
   "metadata": {},
   "source": [
    "Effect of changing weights on Loss funtion\n",
    " \n",
    " <img src=\"images/opt1.png\" width=400/>"
   ]
  },
  {
   "cell_type": "markdown",
   "metadata": {},
   "source": [
    "Loss vs Weight\n",
    "\n",
    " <img src=\"images/opt2.png\" width=400 />\n",
    " "
   ]
  },
  {
   "cell_type": "markdown",
   "metadata": {},
   "source": [
    "Gradient Descent"
   ]
  },
  {
   "cell_type": "markdown",
   "metadata": {},
   "source": [
    " \n",
    "\n",
    " <img src=\"images/opt3.png\" width=400/>"
   ]
  },
  {
   "cell_type": "markdown",
   "metadata": {},
   "source": [
    " \n",
    "\n",
    " <img src=\"images/opt4.png\"  width=400/>"
   ]
  },
  {
   "cell_type": "markdown",
   "metadata": {},
   "source": [
    " \n",
    "\n",
    " <img src=\"images/opt5.png\" width=400/>"
   ]
  },
  {
   "cell_type": "markdown",
   "metadata": {},
   "source": [
    "Adjusting the weights\n",
    " \n",
    "\n",
    " <img src=\"images/opt6.png\"  width=400/>\n",
    "Here the alpha symbol is the learning rate. This will affect the speed of optimization of our neural network. "
   ]
  },
  {
   "cell_type": "markdown",
   "metadata": {},
   "source": [
    "If the learning rate is too small our net work may take a long time. IF it is too large  you may not find a good minimum. "
   ]
  },
  {
   "cell_type": "markdown",
   "metadata": {},
   "source": [
    "#### Train!"
   ]
  },
  {
   "cell_type": "code",
   "execution_count": 42,
   "metadata": {},
   "outputs": [
    {
     "name": "stdout",
     "output_type": "stream",
     "text": [
      "Epoch 1/100\n",
      "469/469 [==============================] - 1s 3ms/step - loss: 0.0838 - accuracy: 0.4696\n",
      "Epoch 2/100\n",
      "469/469 [==============================] - 1s 3ms/step - loss: 0.0834 - accuracy: 0.4735\n",
      "Epoch 3/100\n",
      "469/469 [==============================] - 1s 3ms/step - loss: 0.0829 - accuracy: 0.4766\n",
      "Epoch 4/100\n",
      "469/469 [==============================] - 1s 3ms/step - loss: 0.0825 - accuracy: 0.4799\n",
      "Epoch 5/100\n",
      "469/469 [==============================] - 1s 3ms/step - loss: 0.0821 - accuracy: 0.4833\n",
      "Epoch 6/100\n",
      "469/469 [==============================] - 1s 3ms/step - loss: 0.0816 - accuracy: 0.4859\n",
      "Epoch 7/100\n",
      "469/469 [==============================] - 1s 3ms/step - loss: 0.0812 - accuracy: 0.4885\n",
      "Epoch 8/100\n",
      "469/469 [==============================] - 1s 2ms/step - loss: 0.0807 - accuracy: 0.4904\n",
      "Epoch 9/100\n",
      "469/469 [==============================] - 1s 2ms/step - loss: 0.0802 - accuracy: 0.4934\n",
      "Epoch 10/100\n",
      "469/469 [==============================] - 1s 3ms/step - loss: 0.0798 - accuracy: 0.4958\n",
      "Epoch 11/100\n",
      "469/469 [==============================] - 1s 3ms/step - loss: 0.0793 - accuracy: 0.4990\n",
      "Epoch 12/100\n",
      "469/469 [==============================] - 1s 3ms/step - loss: 0.0788 - accuracy: 0.5019\n",
      "Epoch 13/100\n",
      "469/469 [==============================] - 1s 3ms/step - loss: 0.0783 - accuracy: 0.5040\n",
      "Epoch 14/100\n",
      "469/469 [==============================] - 1s 3ms/step - loss: 0.0778 - accuracy: 0.5069\n",
      "Epoch 15/100\n",
      "469/469 [==============================] - 1s 3ms/step - loss: 0.0772 - accuracy: 0.5089\n",
      "Epoch 16/100\n",
      "469/469 [==============================] - 1s 3ms/step - loss: 0.0767 - accuracy: 0.5114\n",
      "Epoch 17/100\n",
      "469/469 [==============================] - 1s 3ms/step - loss: 0.0762 - accuracy: 0.5145\n",
      "Epoch 18/100\n",
      "469/469 [==============================] - 1s 3ms/step - loss: 0.0757 - accuracy: 0.5165\n",
      "Epoch 19/100\n",
      "469/469 [==============================] - 1s 3ms/step - loss: 0.0751 - accuracy: 0.5190\n",
      "Epoch 20/100\n",
      "469/469 [==============================] - 1s 3ms/step - loss: 0.0746 - accuracy: 0.5219\n",
      "Epoch 21/100\n",
      "469/469 [==============================] - 1s 3ms/step - loss: 0.0740 - accuracy: 0.5240\n",
      "Epoch 22/100\n",
      "469/469 [==============================] - 1s 3ms/step - loss: 0.0735 - accuracy: 0.5264\n",
      "Epoch 23/100\n",
      "469/469 [==============================] - 1s 3ms/step - loss: 0.0730 - accuracy: 0.5282\n",
      "Epoch 24/100\n",
      "469/469 [==============================] - 1s 3ms/step - loss: 0.0724 - accuracy: 0.5300\n",
      "Epoch 25/100\n",
      "469/469 [==============================] - 1s 3ms/step - loss: 0.0719 - accuracy: 0.5321\n",
      "Epoch 26/100\n",
      "469/469 [==============================] - 1s 3ms/step - loss: 0.0713 - accuracy: 0.5343\n",
      "Epoch 27/100\n",
      "469/469 [==============================] - 2s 3ms/step - loss: 0.0708 - accuracy: 0.5364\n",
      "Epoch 28/100\n",
      "469/469 [==============================] - 2s 4ms/step - loss: 0.0702 - accuracy: 0.5385\n",
      "Epoch 29/100\n",
      "469/469 [==============================] - 2s 5ms/step - loss: 0.0697 - accuracy: 0.5412\n",
      "Epoch 30/100\n",
      "469/469 [==============================] - 2s 4ms/step - loss: 0.0692 - accuracy: 0.5437\n",
      "Epoch 31/100\n",
      "469/469 [==============================] - 2s 3ms/step - loss: 0.0687 - accuracy: 0.5453\n",
      "Epoch 32/100\n",
      "469/469 [==============================] - 1s 3ms/step - loss: 0.0681 - accuracy: 0.5475\n",
      "Epoch 33/100\n",
      "469/469 [==============================] - 1s 3ms/step - loss: 0.0676 - accuracy: 0.5497\n",
      "Epoch 34/100\n",
      "469/469 [==============================] - 2s 4ms/step - loss: 0.0671 - accuracy: 0.5520\n",
      "Epoch 35/100\n",
      "469/469 [==============================] - 1s 3ms/step - loss: 0.0666 - accuracy: 0.5545\n",
      "Epoch 36/100\n",
      "469/469 [==============================] - 2s 3ms/step - loss: 0.0661 - accuracy: 0.5567\n",
      "Epoch 37/100\n",
      "469/469 [==============================] - 2s 3ms/step - loss: 0.0656 - accuracy: 0.5591\n",
      "Epoch 38/100\n",
      "469/469 [==============================] - 2s 4ms/step - loss: 0.0651 - accuracy: 0.5616\n",
      "Epoch 39/100\n",
      "469/469 [==============================] - 2s 4ms/step - loss: 0.0646 - accuracy: 0.5641\n",
      "Epoch 40/100\n",
      "469/469 [==============================] - 2s 3ms/step - loss: 0.0642 - accuracy: 0.5673\n",
      "Epoch 41/100\n",
      "469/469 [==============================] - 1s 3ms/step - loss: 0.0637 - accuracy: 0.5701\n",
      "Epoch 42/100\n",
      "469/469 [==============================] - 1s 3ms/step - loss: 0.0632 - accuracy: 0.5728\n",
      "Epoch 43/100\n",
      "469/469 [==============================] - 1s 3ms/step - loss: 0.0628 - accuracy: 0.5759\n",
      "Epoch 44/100\n",
      "469/469 [==============================] - 1s 3ms/step - loss: 0.0623 - accuracy: 0.5794\n",
      "Epoch 45/100\n",
      "469/469 [==============================] - 2s 3ms/step - loss: 0.0619 - accuracy: 0.5828\n",
      "Epoch 46/100\n",
      "469/469 [==============================] - 2s 3ms/step - loss: 0.0614 - accuracy: 0.5866\n",
      "Epoch 47/100\n",
      "469/469 [==============================] - 1s 3ms/step - loss: 0.0610 - accuracy: 0.5898\n",
      "Epoch 48/100\n",
      "469/469 [==============================] - 1s 3ms/step - loss: 0.0606 - accuracy: 0.5939\n",
      "Epoch 49/100\n",
      "469/469 [==============================] - 1s 3ms/step - loss: 0.0601 - accuracy: 0.5977\n",
      "Epoch 50/100\n",
      "469/469 [==============================] - 1s 3ms/step - loss: 0.0597 - accuracy: 0.6014\n",
      "Epoch 51/100\n",
      "469/469 [==============================] - 1s 3ms/step - loss: 0.0593 - accuracy: 0.6052\n",
      "Epoch 52/100\n",
      "469/469 [==============================] - 1s 3ms/step - loss: 0.0589 - accuracy: 0.6092\n",
      "Epoch 53/100\n",
      "469/469 [==============================] - 1s 3ms/step - loss: 0.0585 - accuracy: 0.6128\n",
      "Epoch 54/100\n",
      "469/469 [==============================] - 1s 3ms/step - loss: 0.0581 - accuracy: 0.6162\n",
      "Epoch 55/100\n",
      "469/469 [==============================] - 1s 3ms/step - loss: 0.0577 - accuracy: 0.6202\n",
      "Epoch 56/100\n",
      "469/469 [==============================] - 1s 3ms/step - loss: 0.0573 - accuracy: 0.6241\n",
      "Epoch 57/100\n",
      "469/469 [==============================] - 2s 3ms/step - loss: 0.0569 - accuracy: 0.6281\n",
      "Epoch 58/100\n",
      "469/469 [==============================] - 2s 5ms/step - loss: 0.0565 - accuracy: 0.6321\n",
      "Epoch 59/100\n",
      "469/469 [==============================] - 3s 6ms/step - loss: 0.0561 - accuracy: 0.6356\n",
      "Epoch 60/100\n",
      "469/469 [==============================] - 2s 5ms/step - loss: 0.0558 - accuracy: 0.6396\n",
      "Epoch 61/100\n",
      "469/469 [==============================] - 2s 3ms/step - loss: 0.0554 - accuracy: 0.6431\n",
      "Epoch 62/100\n",
      "469/469 [==============================] - 1s 3ms/step - loss: 0.0550 - accuracy: 0.6470\n",
      "Epoch 63/100\n",
      "469/469 [==============================] - 2s 4ms/step - loss: 0.0547 - accuracy: 0.6504\n",
      "Epoch 64/100\n",
      "469/469 [==============================] - 2s 5ms/step - loss: 0.0543 - accuracy: 0.6542\n",
      "Epoch 65/100\n",
      "469/469 [==============================] - 2s 4ms/step - loss: 0.0539 - accuracy: 0.6582\n",
      "Epoch 66/100\n",
      "469/469 [==============================] - 1s 3ms/step - loss: 0.0536 - accuracy: 0.6618\n",
      "Epoch 67/100\n",
      "469/469 [==============================] - 1s 3ms/step - loss: 0.0532 - accuracy: 0.6653\n",
      "Epoch 68/100\n",
      "469/469 [==============================] - 1s 3ms/step - loss: 0.0529 - accuracy: 0.6692\n",
      "Epoch 69/100\n",
      "469/469 [==============================] - 1s 3ms/step - loss: 0.0525 - accuracy: 0.6734\n",
      "Epoch 70/100\n",
      "469/469 [==============================] - 1s 3ms/step - loss: 0.0522 - accuracy: 0.6763\n",
      "Epoch 71/100\n",
      "469/469 [==============================] - 1s 3ms/step - loss: 0.0518 - accuracy: 0.6803\n",
      "Epoch 72/100\n",
      "469/469 [==============================] - 1s 3ms/step - loss: 0.0515 - accuracy: 0.6841\n",
      "Epoch 73/100\n",
      "469/469 [==============================] - 1s 3ms/step - loss: 0.0512 - accuracy: 0.6873\n",
      "Epoch 74/100\n",
      "469/469 [==============================] - 1s 3ms/step - loss: 0.0508 - accuracy: 0.6911\n",
      "Epoch 75/100\n",
      "469/469 [==============================] - 1s 3ms/step - loss: 0.0505 - accuracy: 0.6941\n",
      "Epoch 76/100\n",
      "469/469 [==============================] - 1s 3ms/step - loss: 0.0502 - accuracy: 0.6986\n",
      "Epoch 77/100\n",
      "469/469 [==============================] - 1s 3ms/step - loss: 0.0498 - accuracy: 0.7014\n",
      "Epoch 78/100\n",
      "469/469 [==============================] - 1s 3ms/step - loss: 0.0495 - accuracy: 0.7053\n",
      "Epoch 79/100\n",
      "469/469 [==============================] - 1s 3ms/step - loss: 0.0492 - accuracy: 0.7084\n",
      "Epoch 80/100\n",
      "469/469 [==============================] - 1s 3ms/step - loss: 0.0489 - accuracy: 0.7120\n",
      "Epoch 81/100\n"
     ]
    },
    {
     "name": "stdout",
     "output_type": "stream",
     "text": [
      "469/469 [==============================] - 1s 3ms/step - loss: 0.0486 - accuracy: 0.7144\n",
      "Epoch 82/100\n",
      "469/469 [==============================] - 1s 3ms/step - loss: 0.0483 - accuracy: 0.7175\n",
      "Epoch 83/100\n",
      "469/469 [==============================] - 1s 3ms/step - loss: 0.0480 - accuracy: 0.7207\n",
      "Epoch 84/100\n",
      "469/469 [==============================] - 1s 3ms/step - loss: 0.0477 - accuracy: 0.7241\n",
      "Epoch 85/100\n",
      "469/469 [==============================] - 1s 3ms/step - loss: 0.0474 - accuracy: 0.7271\n",
      "Epoch 86/100\n",
      "469/469 [==============================] - 1s 3ms/step - loss: 0.0471 - accuracy: 0.7297\n",
      "Epoch 87/100\n",
      "469/469 [==============================] - 1s 3ms/step - loss: 0.0468 - accuracy: 0.7324\n",
      "Epoch 88/100\n",
      "469/469 [==============================] - 1s 3ms/step - loss: 0.0465 - accuracy: 0.7345\n",
      "Epoch 89/100\n",
      "469/469 [==============================] - 1s 3ms/step - loss: 0.0462 - accuracy: 0.7376\n",
      "Epoch 90/100\n",
      "469/469 [==============================] - 1s 3ms/step - loss: 0.0459 - accuracy: 0.7399\n",
      "Epoch 91/100\n",
      "469/469 [==============================] - 1s 3ms/step - loss: 0.0456 - accuracy: 0.7418\n",
      "Epoch 92/100\n",
      "469/469 [==============================] - 2s 3ms/step - loss: 0.0453 - accuracy: 0.7439\n",
      "Epoch 93/100\n",
      "469/469 [==============================] - 1s 3ms/step - loss: 0.0451 - accuracy: 0.7462\n",
      "Epoch 94/100\n",
      "469/469 [==============================] - 1s 3ms/step - loss: 0.0448 - accuracy: 0.7484\n",
      "Epoch 95/100\n",
      "469/469 [==============================] - 2s 3ms/step - loss: 0.0445 - accuracy: 0.7505\n",
      "Epoch 96/100\n",
      "469/469 [==============================] - 2s 4ms/step - loss: 0.0442 - accuracy: 0.7521\n",
      "Epoch 97/100\n",
      "469/469 [==============================] - 2s 4ms/step - loss: 0.0440 - accuracy: 0.7539\n",
      "Epoch 98/100\n",
      "469/469 [==============================] - 2s 4ms/step - loss: 0.0437 - accuracy: 0.7558\n",
      "Epoch 99/100\n",
      "469/469 [==============================] - 2s 4ms/step - loss: 0.0434 - accuracy: 0.7571\n",
      "Epoch 100/100\n",
      "469/469 [==============================] - 1s 3ms/step - loss: 0.0432 - accuracy: 0.7586\n"
     ]
    }
   ],
   "source": [
    "history=model.fit(X_train, y_train, batch_size=128, epochs=20, verbose=1) # try increasing  epochs  to 100 "
   ]
  },
  {
   "cell_type": "markdown",
   "metadata": {},
   "source": [
    "Let us choose  one row vector from X valid and test the model\n"
   ]
  },
  {
   "cell_type": "code",
   "execution_count": 33,
   "metadata": {},
   "outputs": [],
   "source": [
    "test_case =X_valid[:1,:]"
   ]
  },
  {
   "cell_type": "code",
   "execution_count": 34,
   "metadata": {},
   "outputs": [
    {
     "data": {
      "text/plain": [
       "(1, 784)"
      ]
     },
     "execution_count": 34,
     "metadata": {},
     "output_type": "execute_result"
    }
   ],
   "source": [
    "test_case.shape"
   ]
  },
  {
   "cell_type": "code",
   "execution_count": null,
   "metadata": {},
   "outputs": [],
   "source": []
  },
  {
   "cell_type": "code",
   "execution_count": 35,
   "metadata": {},
   "outputs": [],
   "source": [
    "predicted_digit=model.predict(test_case)"
   ]
  },
  {
   "cell_type": "code",
   "execution_count": 36,
   "metadata": {},
   "outputs": [
    {
     "data": {
      "text/plain": [
       "array([[0.12285414, 0.13189378, 0.09594065, 0.09945477, 0.09543392,\n",
       "        0.06238189, 0.09368779, 0.15831903, 0.0638618 , 0.07617216]],\n",
       "      dtype=float32)"
      ]
     },
     "execution_count": 36,
     "metadata": {},
     "output_type": "execute_result"
    }
   ],
   "source": [
    "predicted_digit  # This is an array with probabilities for each digit"
   ]
  },
  {
   "cell_type": "markdown",
   "metadata": {},
   "source": [
    "We can use a mumpy funtion to convert it to the desired label"
   ]
  },
  {
   "cell_type": "code",
   "execution_count": 37,
   "metadata": {},
   "outputs": [
    {
     "data": {
      "text/plain": [
       "array([7])"
      ]
     },
     "execution_count": 37,
     "metadata": {},
     "output_type": "execute_result"
    }
   ],
   "source": [
    "import numpy as np\n",
    "np.argmax(predicted_digit,axis=1)"
   ]
  },
  {
   "cell_type": "code",
   "execution_count": 38,
   "metadata": {},
   "outputs": [
    {
     "name": "stdout",
     "output_type": "stream",
     "text": [
      "313/313 [==============================] - 1s 1ms/step - loss: 0.0839 - accuracy: 0.4767\n"
     ]
    },
    {
     "data": {
      "text/plain": [
       "[0.08385559916496277, 0.4767000079154968]"
      ]
     },
     "execution_count": 38,
     "metadata": {},
     "output_type": "execute_result"
    }
   ],
   "source": [
    "model.evaluate(X_valid, y_valid)"
   ]
  },
  {
   "cell_type": "code",
   "execution_count": 39,
   "metadata": {},
   "outputs": [
    {
     "name": "stdout",
     "output_type": "stream",
     "text": [
      "dict_keys(['loss', 'accuracy'])\n"
     ]
    }
   ],
   "source": [
    "print(history.history.keys())"
   ]
  },
  {
   "cell_type": "code",
   "execution_count": 40,
   "metadata": {},
   "outputs": [
    {
     "name": "stdout",
     "output_type": "stream",
     "text": [
      "dict_values([[0.09234387427568436, 0.09128549695014954, 0.09061186760663986, 0.09008593112230301, 0.08963243663311005, 0.08922141045331955, 0.08883781731128693, 0.08847229182720184, 0.08811866492033005, 0.08777181804180145, 0.08742828667163849, 0.08708520978689194, 0.08674021065235138, 0.0863916352391243, 0.0860380306839943, 0.08567839860916138, 0.08531198650598526, 0.08493814617395401, 0.08455617725849152, 0.0841657742857933], [0.15088333189487457, 0.16210000216960907, 0.19165000319480896, 0.22669999301433563, 0.2535000145435333, 0.27219998836517334, 0.28870001435279846, 0.31576666235923767, 0.3448833227157593, 0.3716166615486145, 0.39259999990463257, 0.4080333411693573, 0.4216333329677582, 0.4300000071525574, 0.4378499984741211, 0.44593334197998047, 0.4512333273887634, 0.45848333835601807, 0.46283334493637085, 0.4666999876499176]])\n"
     ]
    }
   ],
   "source": [
    "print(history.history.values())"
   ]
  },
  {
   "cell_type": "code",
   "execution_count": 41,
   "metadata": {},
   "outputs": [
    {
     "name": "stdout",
     "output_type": "stream",
     "text": [
      "loss [0.09234387427568436, 0.09128549695014954, 0.09061186760663986, 0.09008593112230301, 0.08963243663311005, 0.08922141045331955, 0.08883781731128693, 0.08847229182720184, 0.08811866492033005, 0.08777181804180145, 0.08742828667163849, 0.08708520978689194, 0.08674021065235138, 0.0863916352391243, 0.0860380306839943, 0.08567839860916138, 0.08531198650598526, 0.08493814617395401, 0.08455617725849152, 0.0841657742857933]\n",
      "accuracy [0.15088333189487457, 0.16210000216960907, 0.19165000319480896, 0.22669999301433563, 0.2535000145435333, 0.27219998836517334, 0.28870001435279846, 0.31576666235923767, 0.3448833227157593, 0.3716166615486145, 0.39259999990463257, 0.4080333411693573, 0.4216333329677582, 0.4300000071525574, 0.4378499984741211, 0.44593334197998047, 0.4512333273887634, 0.45848333835601807, 0.46283334493637085, 0.4666999876499176]\n"
     ]
    }
   ],
   "source": [
    " for key, value in history.history.items() :\n",
    "    print (key, value)"
   ]
  },
  {
   "cell_type": "code",
   "execution_count": null,
   "metadata": {},
   "outputs": [],
   "source": []
  }
 ],
 "metadata": {
  "kernelspec": {
   "display_name": "Python 3",
   "language": "python",
   "name": "python3"
  },
  "language_info": {
   "codemirror_mode": {
    "name": "ipython",
    "version": 3
   },
   "file_extension": ".py",
   "mimetype": "text/x-python",
   "name": "python",
   "nbconvert_exporter": "python",
   "pygments_lexer": "ipython3",
   "version": "3.7.10"
  }
 },
 "nbformat": 4,
 "nbformat_minor": 2
}
