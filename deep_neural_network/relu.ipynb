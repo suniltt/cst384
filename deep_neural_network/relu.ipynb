{
 "cells": [
  {
   "cell_type": "markdown",
   "metadata": {},
   "source": [
    "#### Relu \n",
    "\n",
    "The Rectified Linear Unit is the most commonly used activation function in deep learning models. The function returns 0 if it receives any negative input, but for any positive value x it returns that value back. So it can be written as f(x)=max(0,x)."
   ]
  },
  {
   "cell_type": "markdown",
   "metadata": {},
   "source": [
    " \n",
    "<img src=\"images/relu.png\" width=\"400\"/>"
   ]
  },
  {
   "cell_type": "code",
   "execution_count": 1,
   "metadata": {},
   "outputs": [
    {
     "name": "stdout",
     "output_type": "stream",
     "text": [
      "rectified(1.0) is 1.0\n",
      "rectified(1000.0) is 1000.0\n",
      "rectified(0.0) is 0.0\n",
      "rectified(-1.0) is 0.0\n",
      "rectified(-1000.0) is 0.0\n"
     ]
    }
   ],
   "source": [
    " # demonstrate the rectified linear function\n",
    "\n",
    "# rectified linear function\n",
    "def rectified(x):\n",
    "    return max(0.0, x)\n",
    "\n",
    "# demonstrate with a positive input\n",
    "x = 1.0\n",
    "print('rectified(%.1f) is %.1f' % (x, rectified(x)))\n",
    "x = 1000.0\n",
    "print('rectified(%.1f) is %.1f' % (x, rectified(x)))\n",
    "# demonstrate with a zero input\n",
    "x = 0.0\n",
    "print('rectified(%.1f) is %.1f' % (x, rectified(x)))\n",
    "# demonstrate with a negative input\n",
    "x = -1.0\n",
    "print('rectified(%.1f) is %.1f' % (x, rectified(x)))\n",
    "x = -1000.0\n",
    "print('rectified(%.1f) is %.1f' % (x, rectified(x)))"
   ]
  },
  {
   "cell_type": "markdown",
   "metadata": {},
   "source": [
    "####  Introducing Interactions and Non-linearities\n",
    "\n",
    "Activation functions serve two primary purposes:\n",
    " 1) Help a model account for interaction effects.\n",
    "What is an interactive effect? It is when one variable A affects a prediction differently depending on the value of B. For example, if my model wanted to know whether a certain body weight indicated an increased risk of diabetes, it would have to know an individual's height. Some bodyweights indicate elevated risks for short people, while indicating good health for tall people. So, the effect of body weight on diabetes risk depends on height, and we would say that weight and height have an interaction effect.\n",
    "\n",
    " 2) Help a model account for non-linear effects.\n",
    " \n",
    " This just means that if I graph a variable on the horizontal axis, and my predictions on the vertical axis, it isn't a straight line. Or said another way, the effect of increasing the predictor by one is different at different values of that predictor.\n",
    "\n",
    "#### How ReLU captures Interactions and Non-Linearities\n",
    "\n",
    "Interactions: Imagine a single node in a neural network model. For simplicity, assume it has two inputs, called A and B. The weights from A and B into our node are 2 and 3 respectively. So the node output is f(2A+3B)\n",
    ". We'll use the ReLU function for our f. So, if 2A+3B is positive, the output value of our node is also 2A+3B. If 2A+3B is negative, the output value of our node is 0.\n",
    "\n",
    "For concreteness, consider a case where A=1 and B=1. The output is 2A+3B, and if A increases, then the output increases too. On the other hand, if B=-100 then the output is 0, and if A increases moderately, the output remains 0. So A might increase our output, or it might not. It just depends what the value of B is.\n",
    "\n",
    "This is a simple case where the node captured an interaction. As you add more nodes and more layers, the potential complexity of interactions only increases. But you should now see how the activation function helped capture an interactio  Non-linearities:\n",
    "\n",
    "A function is non-linear if the slope isn't constant. So, the ReLU function is non-linear around 0, but the slope is always either 0 (for negative values) or 1 (for positive values). That's a very limited type of non-linearity.\n",
    "\n",
    "But two facts about deep learning models allow us to create many different types of non-linearities from how we combine ReLU nodes.\n",
    "\n",
    "First, most models include a bias term for each node. The bias term is just a constant number that is determined during model training. For simplicity, consider a node with a single input called A, and a bias. If the bias term takes a value of 7, then the node output is f(7+A). In this case, if A is less than -7, the output is 0 and the slope is 0. If A is greater than -7, then the node's output is 7+A, and the slope is 1.\n",
    "\n",
    "So the bias term allows us to move where the slope changes. So far, it still appears we can have only two different slopes.\n",
    "\n",
    "However, real models have many nodes. Each node (even within a single layer) can have a different value for it's bias, so each node can change slope at different values for our input.\n",
    "\n",
    "When we add the resulting functions back up, we get a combined function that changes slopes in many places.\n",
    "\n",
    "These models have the flexibility to produce non-linear functions and account for interactions well (if that will giv better predictions). As we add more nodes in each layer (or more convolutions if we are using a convolutional model) the model gets even greater ability to represent these interactions and non-linearities."
   ]
  },
  {
   "cell_type": "markdown",
   "metadata": {},
   "source": [
    "#### Leaky Relu"
   ]
  },
  {
   "cell_type": "markdown",
   "metadata": {},
   "source": [
    "Leaky Rectified Linear Unit, or Leaky ReLU, is a type of activation function based on a ReLU, but it has a small slope for negative values instead of a flat slope. The slope coefficient is determined before training. This type of activation function is popular in tasks where we we may suffer from sparse gradients, for example training generative adversarial networks"
   ]
  },
  {
   "cell_type": "markdown",
   "metadata": {},
   "source": [
    "<img src=\"images/relu1.png\" width=\"350\"/>"
   ]
  },
  {
   "cell_type": "markdown",
   "metadata": {},
   "source": [
    "Excercise Write a leaky Relu funtion"
   ]
  },
  {
   "cell_type": "code",
   "execution_count": null,
   "metadata": {},
   "outputs": [],
   "source": []
  }
 ],
 "metadata": {
  "kernelspec": {
   "display_name": "Python 3",
   "language": "python",
   "name": "python3"
  },
  "language_info": {
   "codemirror_mode": {
    "name": "ipython",
    "version": 3
   },
   "file_extension": ".py",
   "mimetype": "text/x-python",
   "name": "python",
   "nbconvert_exporter": "python",
   "pygments_lexer": "ipython3",
   "version": "3.8.8"
  }
 },
 "nbformat": 4,
 "nbformat_minor": 4
}
